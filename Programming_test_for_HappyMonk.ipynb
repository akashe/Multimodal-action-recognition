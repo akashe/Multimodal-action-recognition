{
  "nbformat": 4,
  "nbformat_minor": 0,
  "metadata": {
    "colab": {
      "name": "Programming test for HappyMonk.ipynb",
      "provenance": [],
      "authorship_tag": "ABX9TyNgIcAF4Z6jJmS9lJhknrp7",
      "include_colab_link": true
    },
    "kernelspec": {
      "name": "python3",
      "display_name": "Python 3"
    },
    "language_info": {
      "name": "python"
    }
  },
  "cells": [
    {
      "cell_type": "markdown",
      "metadata": {
        "id": "view-in-github",
        "colab_type": "text"
      },
      "source": [
        "<a href=\"https://colab.research.google.com/github/akashe/ProgrammingInterview/blob/main/Programming_test_for_HappyMonk.ipynb\" target=\"_parent\"><img src=\"https://colab.research.google.com/assets/colab-badge.svg\" alt=\"Open In Colab\"/></a>"
      ]
    },
    {
      "cell_type": "markdown",
      "metadata": {
        "id": "ZeDgbQsTeaj6"
      },
      "source": [
        "Assumptions in this test:\n",
        "1. I am free to choose network size and optimize activation function AF on that.\n",
        "2. I am also free to choose param dimensions for $k_o$ and $k_1$\n",
        "\n",
        "Note: For better navigation open in Google Colab.\n",
        "\n"
      ]
    },
    {
      "cell_type": "code",
      "metadata": {
        "id": "ltGhLGDif-ye"
      },
      "source": [
        "import torch\n",
        "import gzip\n",
        "import os\n",
        "import sys\n",
        "import struct\n",
        "import numpy as np\n",
        "import matplotlib.pyplot as plt\n",
        "import torch.nn as nn\n",
        "from torch.distributions.normal import Normal\n",
        "from torch.optim import Adam,SGD\n",
        "from scipy.interpolate import make_interp_spline, BSpline\n",
        "import numpy as np"
      ],
      "execution_count": 1,
      "outputs": []
    },
    {
      "cell_type": "markdown",
      "metadata": {
        "id": "MXWt1f0xYHO6"
      },
      "source": [
        "#### Dataset"
      ]
    },
    {
      "cell_type": "markdown",
      "metadata": {
        "id": "pzXKHvB1l03Z"
      },
      "source": [
        "We will be learning activation function on MNIST. Though google colab already has MNIST data but it has only 20k examples in train set. We will work with the \n",
        "full train set."
      ]
    },
    {
      "cell_type": "code",
      "metadata": {
        "colab": {
          "base_uri": "https://localhost:8080/"
        },
        "id": "iF_sAeozWfY1",
        "outputId": "27f51dc5-0262-4d6f-94d1-7c0a969c3c49"
      },
      "source": [
        "!wget -N https://data.deepai.org/mnist.zip"
      ],
      "execution_count": 2,
      "outputs": [
        {
          "output_type": "stream",
          "text": [
            "--2021-05-19 17:00:19--  https://data.deepai.org/mnist.zip\n",
            "Resolving data.deepai.org (data.deepai.org)... 138.201.36.183\n",
            "Connecting to data.deepai.org (data.deepai.org)|138.201.36.183|:443... connected.\n",
            "HTTP request sent, awaiting response... 200 OK\n",
            "Length: 11597176 (11M) [application/x-zip-compressed]\n",
            "Saving to: ‘mnist.zip’\n",
            "\n",
            "mnist.zip           100%[===================>]  11.06M  4.69MB/s    in 2.4s    \n",
            "\n",
            "2021-05-19 17:00:22 (4.69 MB/s) - ‘mnist.zip’ saved [11597176/11597176]\n",
            "\n"
          ],
          "name": "stdout"
        }
      ]
    },
    {
      "cell_type": "code",
      "metadata": {
        "colab": {
          "base_uri": "https://localhost:8080/"
        },
        "id": "_MRDwe5FW8zt",
        "outputId": "5eeedd99-b6b3-4d9a-becb-686fe16a2ed7"
      },
      "source": [
        "!unzip -n /content/mnist.zip"
      ],
      "execution_count": 3,
      "outputs": [
        {
          "output_type": "stream",
          "text": [
            "Archive:  /content/mnist.zip\n",
            "  inflating: train-labels-idx1-ubyte.gz  \n",
            "  inflating: train-images-idx3-ubyte.gz  \n",
            "  inflating: t10k-images-idx3-ubyte.gz  \n",
            "  inflating: t10k-labels-idx1-ubyte.gz  \n"
          ],
          "name": "stdout"
        }
      ]
    },
    {
      "cell_type": "code",
      "metadata": {
        "colab": {
          "base_uri": "https://localhost:8080/"
        },
        "id": "ayLFh3y1fh4h",
        "outputId": "4bdbfd49-eede-4117-e858-5f305d170a5d"
      },
      "source": [
        "# Loading data into tensors\n",
        "\n",
        "def read_image(fi):\n",
        "    magic, n, rows, columns = struct.unpack(\">IIII\", fi.read(16))\n",
        "    assert magic == 0x00000803\n",
        "    assert rows == 28\n",
        "    assert columns == 28\n",
        "    rawbuffer = fi.read()\n",
        "    assert len(rawbuffer) == n * rows * columns\n",
        "    rawdata = np.frombuffer(rawbuffer, dtype='>u1', count=n*rows*columns)\n",
        "    return rawdata.reshape(n, rows, columns).astype(np.float32) / 255.0\n",
        "\n",
        "def read_label(fi):\n",
        "    magic, n = struct.unpack(\">II\", fi.read(8))\n",
        "    assert magic == 0x00000801\n",
        "    rawbuffer = fi.read()\n",
        "    assert len(rawbuffer) == n\n",
        "    return np.frombuffer(rawbuffer, dtype='>u1', count=n)\n",
        "\n",
        "\n",
        "train_x=torch.from_numpy(read_image(gzip.open('train-images-idx3-ubyte.gz', 'rb')))\n",
        "train_y=torch.from_numpy(read_label(gzip.open('train-labels-idx1-ubyte.gz', 'rb'))).long()\n",
        "test_x=torch.from_numpy(read_image(gzip.open('t10k-images-idx3-ubyte.gz', 'rb')))\n",
        "test_y=torch.from_numpy(read_label(gzip.open('t10k-labels-idx1-ubyte.gz', 'rb'))).long()"
      ],
      "execution_count": 4,
      "outputs": [
        {
          "output_type": "stream",
          "text": [
            "/usr/local/lib/python3.7/dist-packages/ipykernel_launcher.py:22: UserWarning: The given NumPy array is not writeable, and PyTorch does not support non-writeable tensors. This means you can write to the underlying (supposedly non-writeable) NumPy array using the tensor. You may want to copy the array to protect its data or make it writeable before converting it to a tensor. This type of warning will be suppressed for the rest of this program. (Triggered internally at  /pytorch/torch/csrc/utils/tensor_numpy.cpp:143.)\n"
          ],
          "name": "stderr"
        }
      ]
    },
    {
      "cell_type": "code",
      "metadata": {
        "colab": {
          "base_uri": "https://localhost:8080/",
          "height": 282
        },
        "id": "AqrbAnhfXyzT",
        "outputId": "9ca595f9-8d35-40dd-e9ba-3d255fb0a495"
      },
      "source": [
        "plt.imshow(  train_x[0]  )"
      ],
      "execution_count": 5,
      "outputs": [
        {
          "output_type": "execute_result",
          "data": {
            "text/plain": [
              "<matplotlib.image.AxesImage at 0x7fa78f1787d0>"
            ]
          },
          "metadata": {
            "tags": []
          },
          "execution_count": 5
        },
        {
          "output_type": "display_data",
          "data": {
            "image/png": "[encoded data removed]",
            "text/plain": [
              "<Figure size 432x288 with 1 Axes>"
            ]
          },
          "metadata": {
            "tags": [],
            "needs_background": "light"
          }
        }
      ]
    },
    {
      "cell_type": "code",
      "metadata": {
        "id": "uc4ptp8mxYzn"
      },
      "source": [
        "# Reshaping x values\n",
        "train_x = train_x.reshape(train_x.shape[0],-1)\n",
        "test_x  = test_x.reshape(test_x.shape[0],-1)"
      ],
      "execution_count": 6,
      "outputs": []
    },
    {
      "cell_type": "markdown",
      "metadata": {
        "id": "-_aVIDgzcIF9"
      },
      "source": [
        "#### Model"
      ]
    },
    {
      "cell_type": "markdown",
      "metadata": {
        "id": "g10umo-BcidT"
      },
      "source": [
        "##### Activation Function:\n",
        "\n",
        "Our activation functions will be sampling from a Normal distribution. We will use reparameterization trick to use them in our model. So,\n",
        "\n",
        "$ k_0 = \\mu_0 + \\sigma_0*\\mathcal{N}(0,1)$\n",
        "\n",
        "$ k_1 = \\mu_1 + \\sigma_1*\\mathcal{N}(0,1)$\n",
        "\n",
        "Our activation function,\n",
        "\n",
        "$g(x) = k_0 + k_1*x$\n",
        ", where $*$ is pointwise multiplication\n",
        "\n",
        "At t=0, \n",
        "\n",
        "$\\mu_0=\\mu_1=0$, and\n",
        "\n",
        "$\\sigma_0=\\sigma_1=1$ \n",
        "\n",
        "If we keep the params $k_0$ and $k_1$ as simple matrix multiplications, it will only result in a further linear transormations for the inputs. We chose to add stochasticity to get their values. A normal distribution is a simple and go-to choice. If the results aren't satisfactory we could try other other methods for values of $k_0$ and $k_1$.\n"
      ]
    },
    {
      "cell_type": "code",
      "metadata": {
        "id": "qhIb4cSOcKP9"
      },
      "source": [
        "class Activation_Function(nn.Module):\n",
        "  def __init__(self,distribution='Normal'):\n",
        "    super().__init__()\n",
        "    \n",
        "    # Setting up distribution\n",
        "    if distribution== 'Normal':\n",
        "      self.distribution = Normal(torch.tensor([0.0]),torch.tensor([1.0]))\n",
        "    else:\n",
        "      raise NotImplementedError\n",
        "    \n",
        "    # Defining values\n",
        "    # Setting these values as nn.Parameter as they aren't being recognized as trainable params when doing model.parameters for the optimizer\n",
        "    self.mu_zero = nn.Parameter(torch.zeros(1,requires_grad=True))\n",
        "    self.mu_one = nn.Parameter(torch.zeros(1,requires_grad=True))\n",
        "    self.log_sigma_zero = nn.Parameter(torch.ones(1,requires_grad=True))\n",
        "    self.log_sigma_one = nn.Parameter(torch.ones(1,requires_grad=True))\n",
        "\n",
        "  def forward(self, input_):\n",
        "    # k_zero value after sampling\n",
        "    k_zero = self.mu_zero + torch.exp(self.log_sigma_zero)*self.distribution.rsample()\n",
        "\n",
        "    # k_one value after sampling\n",
        "    k_one = self.mu_one + torch.exp(self.log_sigma_one)*self.distribution.rsample()\n",
        "\n",
        "    return k_zero + k_one*input_\n",
        "\n",
        "  def sample_k(self):\n",
        "    with torch.no_grad():\n",
        "      # k_zero value after sampling\n",
        "      k_zero = self.mu_zero + torch.exp(self.log_sigma_zero)*self.distribution.sample()\n",
        "\n",
        "      # k_one value after sampling\n",
        "      k_one = self.mu_one + torch.exp(self.log_sigma_one)*self.distribution.sample()\n",
        "\n",
        "    return k_zero, k_one"
      ],
      "execution_count": 7,
      "outputs": []
    },
    {
      "cell_type": "markdown",
      "metadata": {
        "id": "DygBpYmsgXcY"
      },
      "source": [
        "##### Network\n",
        "Our network is a simple 3 layer neural network. With layer as following:\n",
        "0. Input layer: [,784]\n",
        "1. Layer 1 : Linear [784,128]\n",
        "2. Layer 2: Linear [128,64]\n",
        "3. Layer 3 : Linear [64,10]\n",
        "\n",
        "Layer 3 is followed by CrossEntropyLoss()\n"
      ]
    },
    {
      "cell_type": "code",
      "metadata": {
        "id": "p0lpaL3zhmSB"
      },
      "source": [
        "class Network(nn.Module):\n",
        "  def __init__(self,layer_dims):\n",
        "    super().__init__()\n",
        "    self.layers = []\n",
        "\n",
        "    # Setting activation fucntion to our custom class\n",
        "    self.activation =  Activation_Function()\n",
        "\n",
        "    # Adding layers\n",
        "    for i in range(1,len(layer_dims)):\n",
        "      self.layers.append(nn.Linear(layer_dims[i-1],layer_dims[i],bias= True))\n",
        "      if i != len(layer_dims)-1:\n",
        "        self.layers.append(self.activation) \n",
        "\n",
        "    # Defining network \n",
        "    self.network = nn.Sequential(*self.layers)\n",
        "\n",
        "    # Setting loss function\n",
        "    self.loss = nn.CrossEntropyLoss()\n",
        "    \n",
        "  def forward(self,inputs_,labels_):\n",
        "    outputs_ = self.network(inputs_)\n",
        "\n",
        "    acc_ = sum(torch.argmax(outputs_,-1)==labels_)/len(inputs_)*100\n",
        "\n",
        "    return self.loss(outputs_, labels_),acc_\n"
      ],
      "execution_count": 8,
      "outputs": []
    },
    {
      "cell_type": "markdown",
      "metadata": {
        "id": "ZBKl2YmxmUSk"
      },
      "source": [
        "#### Training loop"
      ]
    },
    {
      "cell_type": "code",
      "metadata": {
        "colab": {
          "base_uri": "https://localhost:8080/"
        },
        "id": "mr8dMA9omW-Z",
        "outputId": "973fe35b-2b5e-4cab-eb5b-591109e342cc"
      },
      "source": [
        "# Training variables\n",
        "epochs = 20\n",
        "batch_size = 128\n",
        "layer_dims = [784,128,64,10]\n",
        "lr = 0.05\n",
        "\n",
        "\n",
        "# Initiate model\n",
        "model = Network(layer_dims)\n",
        "\n",
        "# Optimizer\n",
        "optim = SGD(model.parameters(),lr=lr)\n",
        "\n",
        "# Variables for plotting\n",
        "train_loss = []\n",
        "test_loss = []\n",
        "train_accuracy = []\n",
        "test_accuracy = []\n",
        "k_zero = []\n",
        "k_one = []\n",
        "\n",
        "\n",
        "# Runner loop\n",
        "for i in range(epochs):\n",
        "  # Variables for prompt\n",
        "  epoch_train_loss = []\n",
        "  epoch_train_acc = []\n",
        "  epoch_test_loss = []\n",
        "  epoch_test_acc = []\n",
        "\n",
        "  # Setting model to Train\n",
        "  # model.train() \n",
        "  for j in range(0,int(len(train_x)/batch_size)):\n",
        "    batch_x = train_x[j*batch_size:(j+1)*batch_size]\n",
        "    batch_y = train_y[j*batch_size:(j+1)*batch_size]\n",
        "\n",
        "    # sampling k_0 and k_1 values\n",
        "    k_zero_, k_one_ = model.activation.sample_k()\n",
        "    k_zero.append(k_zero_)\n",
        "    k_one.append(k_one_)\n",
        "\n",
        "    # setting grads to zero\n",
        "    optim.zero_grad()\n",
        "\n",
        "    # running the batch\n",
        "    loss, acc = model(batch_x,batch_y)\n",
        "\n",
        "    # backpropagating loss\n",
        "    loss.backward()\n",
        "\n",
        "    # optimizer step\n",
        "    optim.step()\n",
        "\n",
        "    # appending loss and acc values\n",
        "    epoch_train_loss.append(loss.item())\n",
        "    epoch_train_acc.append(acc)\n",
        "    train_loss.append(loss.item())\n",
        "    train_accuracy.append(acc)\n",
        "\n",
        "\n",
        "  # Setting model to Test\n",
        "  # model.eval()\n",
        "  for j in range(0,int(len(test_x)/batch_size)):\n",
        "    batch_x = test_x[j*batch_size:(j+1)*batch_size]\n",
        "    batch_y = test_y[j*batch_size:(j+1)*batch_size]\n",
        "\n",
        "    # running the batch\n",
        "    with torch.no_grad():\n",
        "      loss, acc = model(batch_x,batch_y)\n",
        "\n",
        "    # appending loss and acc values\n",
        "    epoch_test_loss.append(loss.item())\n",
        "    epoch_test_acc.append(acc)\n",
        "    test_loss.append(loss.item())\n",
        "    test_accuracy.append(acc)\n",
        "\n",
        "  print(f'Epoch {i}: \\n Train loss= {sum(epoch_train_loss)/len(epoch_train_loss):.4f} \\t Train Accuracy = {sum(epoch_train_acc)/len(epoch_train_acc):.4f} \\\n",
        "  \\n Test loss = {sum(epoch_test_loss)/len(epoch_test_loss):.4f} \\t Test Accuracy = {sum(epoch_test_acc)/len(epoch_test_acc):.4f}')\n",
        "\n",
        "    "
      ],
      "execution_count": 9,
      "outputs": [
        {
          "output_type": "stream",
          "text": [
            "Epoch 0: \n",
            " Train loss= 0.8283 \t Train Accuracy = 77.7761   \n",
            " Test loss = 0.3785 \t Test Accuracy = 88.6318\n",
            "Epoch 1: \n",
            " Train loss= 0.3280 \t Train Accuracy = 90.5599   \n",
            " Test loss = 0.3696 \t Test Accuracy = 88.9623\n",
            "Epoch 2: \n",
            " Train loss= 0.3083 \t Train Accuracy = 91.2894   \n",
            " Test loss = 0.3298 \t Test Accuracy = 90.2845\n",
            "Epoch 3: \n",
            " Train loss= 0.2988 \t Train Accuracy = 91.5481   \n",
            " Test loss = 0.3359 \t Test Accuracy = 90.1242\n",
            "Epoch 4: \n",
            " Train loss= 0.2920 \t Train Accuracy = 91.8586   \n",
            " Test loss = 0.3150 \t Test Accuracy = 90.7452\n",
            "Epoch 5: \n",
            " Train loss= 0.2856 \t Train Accuracy = 91.9922   \n",
            " Test loss = 0.3193 \t Test Accuracy = 90.6651\n",
            "Epoch 6: \n",
            " Train loss= 0.2819 \t Train Accuracy = 92.1224   \n",
            " Test loss = 0.3233 \t Test Accuracy = 90.5449\n",
            "Epoch 7: \n",
            " Train loss= 0.2789 \t Train Accuracy = 92.1842   \n",
            " Test loss = 0.3094 \t Test Accuracy = 91.1458\n",
            "Epoch 8: \n",
            " Train loss= 0.2760 \t Train Accuracy = 92.2843   \n",
            " Test loss = 0.3152 \t Test Accuracy = 90.6851\n",
            "Epoch 9: \n",
            " Train loss= 0.2736 \t Train Accuracy = 92.3478   \n",
            " Test loss = 0.3093 \t Test Accuracy = 91.0056\n",
            "Epoch 10: \n",
            " Train loss= 0.2721 \t Train Accuracy = 92.4245   \n",
            " Test loss = 0.3090 \t Test Accuracy = 91.0256\n",
            "Epoch 11: \n",
            " Train loss= 0.2698 \t Train Accuracy = 92.5130   \n",
            " Test loss = 0.3153 \t Test Accuracy = 90.7652\n",
            "Epoch 12: \n",
            " Train loss= 0.2679 \t Train Accuracy = 92.5030   \n",
            " Test loss = 0.3144 \t Test Accuracy = 90.8153\n",
            "Epoch 13: \n",
            " Train loss= 0.2668 \t Train Accuracy = 92.6048   \n",
            " Test loss = 0.3083 \t Test Accuracy = 91.2260\n",
            "Epoch 14: \n",
            " Train loss= 0.2657 \t Train Accuracy = 92.6015   \n",
            " Test loss = 0.3080 \t Test Accuracy = 91.0657\n",
            "Epoch 15: \n",
            " Train loss= 0.2647 \t Train Accuracy = 92.6232   \n",
            " Test loss = 0.3083 \t Test Accuracy = 91.0056\n",
            "Epoch 16: \n",
            " Train loss= 0.2635 \t Train Accuracy = 92.6766   \n",
            " Test loss = 0.3056 \t Test Accuracy = 91.2260\n",
            "Epoch 17: \n",
            " Train loss= 0.2624 \t Train Accuracy = 92.6983   \n",
            " Test loss = 0.3011 \t Test Accuracy = 91.3462\n",
            "Epoch 18: \n",
            " Train loss= 0.2614 \t Train Accuracy = 92.7451   \n",
            " Test loss = 0.3072 \t Test Accuracy = 90.9655\n",
            "Epoch 19: \n",
            " Train loss= 0.2603 \t Train Accuracy = 92.7684   \n",
            " Test loss = 0.3041 \t Test Accuracy = 91.2159\n"
          ],
          "name": "stdout"
        }
      ]
    },
    {
      "cell_type": "markdown",
      "metadata": {
        "id": "V8hAwKT9NCW7"
      },
      "source": [
        "#### Plots"
      ]
    },
    {
      "cell_type": "markdown",
      "metadata": {
        "id": "KzfmX8rsNWRm"
      },
      "source": [
        "##### k_zero and k_one"
      ]
    },
    {
      "cell_type": "code",
      "metadata": {
        "colab": {
          "base_uri": "https://localhost:8080/",
          "height": 444
        },
        "id": "oKCeOJQPNa1k",
        "outputId": "8fa7c0f7-2f4e-4b3c-837e-af2d89d4ee9e"
      },
      "source": [
        "smooth_count = 100\n",
        "\n",
        "def average_over(a,iterations_count=100):\n",
        "  # Function to get smoother graphs by getting average values for every iteration count\n",
        "  averaged_list = []\n",
        "  i = 0\n",
        "  while i+iterations_count < len(a):\n",
        "    averaged_list.append(sum(a[i:i+iterations_count])/iterations_count)\n",
        "    i += iterations_count\n",
        "  \n",
        "  return averaged_list\n",
        "\n",
        "\n",
        "\n",
        "fig,ax = plt.subplots(ncols=2,figsize=(12,6))\n",
        "fig.suptitle(\"Value of activation constants over time\")\n",
        "fig.suptitle(f'Note: No of iterations = x_label * {smooth_count}', y=-0.01)\n",
        "ax[0].plot(average_over(k_zero,smooth_count))\n",
        "ax[0].set_title(\"k_zero\")\n",
        "ax[1].plot(average_over(k_one,smooth_count))\n",
        "ax[1].set_title(\"k_one\")\n",
        "plt.show()\n"
      ],
      "execution_count": 10,
      "outputs": [
        {
          "output_type": "display_data",
          "data": {
            "image/png": "[encoded data removed]",
            "text/plain": [
              "<Figure size 864x432 with 2 Axes>"
            ]
          },
          "metadata": {
            "tags": [],
            "needs_background": "light"
          }
        }
      ]
    },
    {
      "cell_type": "markdown",
      "metadata": {
        "id": "gWhed5A6SAfM"
      },
      "source": [
        "##### Train and Test loss"
      ]
    },
    {
      "cell_type": "code",
      "metadata": {
        "colab": {
          "base_uri": "https://localhost:8080/",
          "height": 444
        },
        "id": "cm6xctTXSDW9",
        "outputId": "9adf907b-ed64-43da-d546-9b2b13a03a2c"
      },
      "source": [
        "fig,ax = plt.subplots(ncols=2,figsize=(12,6))\n",
        "fig.suptitle(\"Train and Test loss\")\n",
        "fig.suptitle(f'Note: No of iterations = x_label * {smooth_count}', y=-0.01)\n",
        "ax[0].plot(average_over(train_loss,smooth_count))\n",
        "ax[0].set_title(\"Train loss\")\n",
        "ax[1].plot(average_over(test_loss,smooth_count))\n",
        "ax[1].set_title(\"Test loss\")\n",
        "plt.show()"
      ],
      "execution_count": 11,
      "outputs": [
        {
          "output_type": "display_data",
          "data": {
            "image/png": "[encoded data removed]",
            "text/plain": [
              "<Figure size 864x432 with 2 Axes>"
            ]
          },
          "metadata": {
            "tags": [],
            "needs_background": "light"
          }
        }
      ]
    },
    {
      "cell_type": "markdown",
      "metadata": {
        "id": "Fz9eCXvCTNoS"
      },
      "source": [
        "##### Train and Test Accuracy"
      ]
    },
    {
      "cell_type": "code",
      "metadata": {
        "colab": {
          "base_uri": "https://localhost:8080/",
          "height": 444
        },
        "id": "cjkhS5swTQa0",
        "outputId": "a46b30e5-e42f-4e1e-ec50-c5be9f3bece2"
      },
      "source": [
        "fig,ax = plt.subplots(ncols=2,figsize=(12,6))\n",
        "fig.suptitle(\"Train and Test Accuracy\")\n",
        "fig.suptitle(f'Note: No of iterations = x_label * {smooth_count}', y=-0.01)\n",
        "ax[0].plot(average_over(train_accuracy,smooth_count))\n",
        "ax[0].set_title(\"Train Accuracy\")\n",
        "ax[1].plot(average_over(test_accuracy,smooth_count))\n",
        "ax[1].set_title(\"Test Accuracy\")\n",
        "plt.show()"
      ],
      "execution_count": 12,
      "outputs": [
        {
          "output_type": "display_data",
          "data": {
            "image/png": "[encoded data removed]",
            "text/plain": [
              "<Figure size 864x432 with 2 Axes>"
            ]
          },
          "metadata": {
            "tags": [],
            "needs_background": "light"
          }
        }
      ]
    },
    {
      "cell_type": "markdown",
      "metadata": {
        "id": "mFX0zMPhiFIV"
      },
      "source": [
        "#### Final mean and standard deviations for distribution of $k_0$ and $k_1$"
      ]
    },
    {
      "cell_type": "code",
      "metadata": {
        "colab": {
          "base_uri": "https://localhost:8080/"
        },
        "id": "36TkcJf0je7E",
        "outputId": "8eb4de7b-ac3d-4058-820d-077107554eab"
      },
      "source": [
        "print(\"The distribution from which we sample k_zero has\")\n",
        "print(f'Final Mean = {model.activation.mu_zero.item():.4f}, Final std = {torch.exp(model.activation.log_sigma_zero).item():.4f}')"
      ],
      "execution_count": 13,
      "outputs": [
        {
          "output_type": "stream",
          "text": [
            "The distribution from which we sample k_zero has\n",
            "Final Mean = 0.1396, Final std = 0.0914\n"
          ],
          "name": "stdout"
        }
      ]
    },
    {
      "cell_type": "code",
      "metadata": {
        "colab": {
          "base_uri": "https://localhost:8080/"
        },
        "id": "XeiOZ_7yh8xq",
        "outputId": "891ee648-184a-4a0a-ac85-253936fe550d"
      },
      "source": [
        "print(\"The distribution from which we sample k_one has\")\n",
        "print(f'Final Mean = {model.activation.mu_one.item():.4f}, Final std = {torch.exp(model.activation.log_sigma_one).item():.4f}')"
      ],
      "execution_count": 14,
      "outputs": [
        {
          "output_type": "stream",
          "text": [
            "The distribution from which we sample k_one has\n",
            "Final Mean = -1.7921, Final std = 0.0677\n"
          ],
          "name": "stdout"
        }
      ]
    }
  ]
}