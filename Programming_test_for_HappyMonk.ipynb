{
  "nbformat": 4,
  "nbformat_minor": 0,
  "metadata": {
    "colab": {
      "name": "Programming test for HappyMonk.ipynb",
      "provenance": [],
      "authorship_tag": "ABX9TyNXbFLM16SE/5aoxbh3CJAC",
      "include_colab_link": true
    },
    "kernelspec": {
      "name": "python3",
      "display_name": "Python 3"
    },
    "language_info": {
      "name": "python"
    }
  },
  "cells": [
    {
      "cell_type": "markdown",
      "metadata": {
        "id": "view-in-github",
        "colab_type": "text"
      },
      "source": [
        "<a href=\"https://colab.research.google.com/github/akashe/ProgrammingInterview/blob/main/Programming_test_for_HappyMonk.ipynb\" target=\"_parent\"><img src=\"https://colab.research.google.com/assets/colab-badge.svg\" alt=\"Open In Colab\"/></a>"
      ]
    },
    {
      "cell_type": "markdown",
      "metadata": {
        "id": "ZeDgbQsTeaj6"
      },
      "source": [
        "Assumptions in this test:\n",
        "1. I am free to choose network size and optimize activation function AF on that.\n",
        "2. I am also free to choose param dimensions for $k_o$ and $k_1$\n",
        "\n"
      ]
    },
    {
      "cell_type": "code",
      "metadata": {
        "id": "ltGhLGDif-ye"
      },
      "source": [
        "import torch\n",
        "import gzip\n",
        "import os\n",
        "import sys\n",
        "import struct\n",
        "import numpy as np\n",
        "import matplotlib.pyplot as plt\n",
        "import torch.nn as nn\n",
        "from torch.distributions.normal import Normal\n",
        "from torch.optim import Adam,SGD\n",
        "from scipy.interpolate import make_interp_spline, BSpline\n",
        "import numpy as np"
      ],
      "execution_count": 1,
      "outputs": []
    },
    {
      "cell_type": "markdown",
      "metadata": {
        "id": "MXWt1f0xYHO6"
      },
      "source": [
        "#### Dataset"
      ]
    },
    {
      "cell_type": "markdown",
      "metadata": {
        "id": "pzXKHvB1l03Z"
      },
      "source": [
        "We will be learning activation function on MNIST. Though google colab already has MNIST data but it has only 20k examples in train set. We will work with the \n",
        "full train set."
      ]
    },
    {
      "cell_type": "code",
      "metadata": {
        "colab": {
          "base_uri": "https://localhost:8080/"
        },
        "id": "iF_sAeozWfY1",
        "outputId": "a00c4d74-3abd-4e1e-f335-305f26e1948e"
      },
      "source": [
        "!wget -N https://data.deepai.org/mnist.zip"
      ],
      "execution_count": 2,
      "outputs": [
        {
          "output_type": "stream",
          "text": [
            "--2021-05-19 16:33:16--  https://data.deepai.org/mnist.zip\n",
            "Resolving data.deepai.org (data.deepai.org)... 138.201.36.183\n",
            "Connecting to data.deepai.org (data.deepai.org)|138.201.36.183|:443... connected.\n",
            "HTTP request sent, awaiting response... 304 Not Modified\n",
            "File ‘mnist.zip’ not modified on server. Omitting download.\n",
            "\n"
          ],
          "name": "stdout"
        }
      ]
    },
    {
      "cell_type": "code",
      "metadata": {
        "colab": {
          "base_uri": "https://localhost:8080/"
        },
        "id": "_MRDwe5FW8zt",
        "outputId": "91c262fa-ecec-4394-aa23-dae72ae3cd89"
      },
      "source": [
        "!unzip -n /content/mnist.zip"
      ],
      "execution_count": 3,
      "outputs": [
        {
          "output_type": "stream",
          "text": [
            "Archive:  /content/mnist.zip\n"
          ],
          "name": "stdout"
        }
      ]
    },
    {
      "cell_type": "code",
      "metadata": {
        "colab": {
          "base_uri": "https://localhost:8080/"
        },
        "id": "ayLFh3y1fh4h",
        "outputId": "157a94e7-b0a4-4630-dfec-2d986c8fb57d"
      },
      "source": [
        "# Loading data into tensors\n",
        "\n",
        "def read_image(fi):\n",
        "    magic, n, rows, columns = struct.unpack(\">IIII\", fi.read(16))\n",
        "    assert magic == 0x00000803\n",
        "    assert rows == 28\n",
        "    assert columns == 28\n",
        "    rawbuffer = fi.read()\n",
        "    assert len(rawbuffer) == n * rows * columns\n",
        "    rawdata = np.frombuffer(rawbuffer, dtype='>u1', count=n*rows*columns)\n",
        "    return rawdata.reshape(n, rows, columns).astype(np.float32) / 255.0\n",
        "\n",
        "def read_label(fi):\n",
        "    magic, n = struct.unpack(\">II\", fi.read(8))\n",
        "    assert magic == 0x00000801\n",
        "    rawbuffer = fi.read()\n",
        "    assert len(rawbuffer) == n\n",
        "    return np.frombuffer(rawbuffer, dtype='>u1', count=n)\n",
        "\n",
        "\n",
        "train_x=torch.from_numpy(read_image(gzip.open('train-images-idx3-ubyte.gz', 'rb')))\n",
        "train_y=torch.from_numpy(read_label(gzip.open('train-labels-idx1-ubyte.gz', 'rb'))).long()\n",
        "test_x=torch.from_numpy(read_image(gzip.open('t10k-images-idx3-ubyte.gz', 'rb')))\n",
        "test_y=torch.from_numpy(read_label(gzip.open('t10k-labels-idx1-ubyte.gz', 'rb'))).long()"
      ],
      "execution_count": 4,
      "outputs": [
        {
          "output_type": "stream",
          "text": [
            "/usr/local/lib/python3.7/dist-packages/ipykernel_launcher.py:22: UserWarning: The given NumPy array is not writeable, and PyTorch does not support non-writeable tensors. This means you can write to the underlying (supposedly non-writeable) NumPy array using the tensor. You may want to copy the array to protect its data or make it writeable before converting it to a tensor. This type of warning will be suppressed for the rest of this program. (Triggered internally at  /pytorch/torch/csrc/utils/tensor_numpy.cpp:143.)\n"
          ],
          "name": "stderr"
        }
      ]
    },
    {
      "cell_type": "code",
      "metadata": {
        "colab": {
          "base_uri": "https://localhost:8080/",
          "height": 282
        },
        "id": "AqrbAnhfXyzT",
        "outputId": "7a058539-6366-4732-a2d0-c56781aaaf51"
      },
      "source": [
        "plt.imshow(  train_x[0]  )"
      ],
      "execution_count": 5,
      "outputs": [
        {
          "output_type": "execute_result",
          "data": {
            "text/plain": [
              "<matplotlib.image.AxesImage at 0x7fdd59e3e210>"
            ]
          },
          "metadata": {
            "tags": []
          },
          "execution_count": 5
        },
        {
          "output_type": "display_data",
          "data": {
            "image/png": "[encoded data removed]",
            "text/plain": [
              "<Figure size 432x288 with 1 Axes>"
            ]
          },
          "metadata": {
            "tags": [],
            "needs_background": "light"
          }
        }
      ]
    },
    {
      "cell_type": "code",
      "metadata": {
        "id": "uc4ptp8mxYzn"
      },
      "source": [
        "# Reshaping x values\n",
        "train_x = train_x.reshape(train_x.shape[0],-1)\n",
        "test_x  = test_x.reshape(test_x.shape[0],-1)"
      ],
      "execution_count": 6,
      "outputs": []
    },
    {
      "cell_type": "markdown",
      "metadata": {
        "id": "-_aVIDgzcIF9"
      },
      "source": [
        "#### Model"
      ]
    },
    {
      "cell_type": "markdown",
      "metadata": {
        "id": "g10umo-BcidT"
      },
      "source": [
        "##### Activation Function:\n",
        "\n",
        "Our activation functions will be sampling from a Normal distribution. We will use reparameterization trick to use them in our model. So,\n",
        "\n",
        "$ k_0 = \\mu_0 + \\sigma_0*\\mathcal{N}(0,1)$\n",
        "\n",
        "$ k_1 = \\mu_1 + \\sigma_1*\\mathcal{N}(0,1)$\n",
        "\n",
        "Our activation function,\n",
        "\n",
        "$g(x) = k_0 + k_1*x$\n",
        ", where $*$ is pointwise multiplication\n",
        "\n",
        "At t=0, \n",
        "\n",
        "$\\mu_0=\\mu_1=0$, and\n",
        "\n",
        "$\\sigma_0=\\sigma_1=1$ \n",
        "\n",
        "Network:\n"
      ]
    },
    {
      "cell_type": "code",
      "metadata": {
        "id": "qhIb4cSOcKP9"
      },
      "source": [
        "class Activation_Function(nn.Module):\n",
        "  def __init__(self,distribution='Normal'):\n",
        "    super().__init__()\n",
        "    \n",
        "    # Setting up distribution\n",
        "    if distribution== 'Normal':\n",
        "      self.distribution = Normal(torch.tensor([0.0]),torch.tensor([1.0]))\n",
        "    else:\n",
        "      raise NotImplementedError\n",
        "    \n",
        "    # Defining values\n",
        "    self.mu_zero = nn.Parameter(torch.zeros(1,requires_grad=True))\n",
        "    self.mu_one = nn.Parameter(torch.zeros(1,requires_grad=True))\n",
        "    self.sigma_zero = nn.Parameter(torch.ones(1,requires_grad=True))\n",
        "    self.sigma_one = nn.Parameter(torch.ones(1,requires_grad=True))\n",
        "\n",
        "  def forward(self, input_):\n",
        "    # k_zero value after sampling\n",
        "    k_zero = self.mu_zero + self.sigma_zero*self.distribution.rsample()\n",
        "\n",
        "    # k_one value after sampling\n",
        "    k_one = self.mu_one + self.sigma_one*self.distribution.rsample()\n",
        "\n",
        "    return k_zero + k_one*input_\n",
        "\n",
        "  def sample_k(self):\n",
        "    with torch.no_grad():\n",
        "      # k_zero value after sampling\n",
        "      k_zero = self.mu_zero + self.sigma_zero*self.distribution.sample()\n",
        "\n",
        "      # k_one value after sampling\n",
        "      k_one = self.mu_one + self.sigma_one*self.distribution.sample()\n",
        "\n",
        "    return k_zero, k_one"
      ],
      "execution_count": 7,
      "outputs": []
    },
    {
      "cell_type": "markdown",
      "metadata": {
        "id": "DygBpYmsgXcY"
      },
      "source": [
        "##### Network\n",
        "Our network is a simple 3 layer neural network. With layer as following:\n",
        "0. Input layer: [,784]\n",
        "1. Layer 1 : Linear [784,128]\n",
        "2. Layer 2: Linear [128,64]\n",
        "3. Layer 3 : Linear [64,10]\n",
        "\n",
        "Layer 3 is followed by CrossEntropyLoss()\n"
      ]
    },
    {
      "cell_type": "code",
      "metadata": {
        "id": "p0lpaL3zhmSB"
      },
      "source": [
        "class Network(nn.Module):\n",
        "  def __init__(self,layer_dims):\n",
        "    super().__init__()\n",
        "    self.layers = []\n",
        "\n",
        "    # Setting activation fucntion to our custom class\n",
        "    self.activation =  Activation_Function()\n",
        "\n",
        "    # Adding layers\n",
        "    for i in range(1,len(layer_dims)):\n",
        "      self.layers.append(nn.Linear(layer_dims[i-1],layer_dims[i],bias= True))\n",
        "      if i != len(layer_dims)-1:\n",
        "        self.layers.append(self.activation) \n",
        "\n",
        "    # Defining network \n",
        "    self.network = nn.Sequential(*self.layers)\n",
        "\n",
        "    # Setting loss function\n",
        "    self.loss = nn.CrossEntropyLoss()\n",
        "    \n",
        "  def forward(self,inputs_,labels_):\n",
        "    outputs_ = self.network(inputs_)\n",
        "\n",
        "    acc_ = sum(torch.argmax(outputs_,-1)==labels_)/len(inputs_)*100\n",
        "\n",
        "    return self.loss(outputs_, labels_),acc_\n"
      ],
      "execution_count": 8,
      "outputs": []
    },
    {
      "cell_type": "markdown",
      "metadata": {
        "id": "ZBKl2YmxmUSk"
      },
      "source": [
        "#### Training loop"
      ]
    },
    {
      "cell_type": "code",
      "metadata": {
        "colab": {
          "base_uri": "https://localhost:8080/"
        },
        "id": "mr8dMA9omW-Z",
        "outputId": "fd295f2b-3bcc-4c75-aa3d-db8e3fbdd33c"
      },
      "source": [
        "# Training variables\n",
        "epochs = 20\n",
        "batch_size = 128\n",
        "layer_dims = [784,128,64,10]\n",
        "lr = 0.05\n",
        "\n",
        "\n",
        "# Initiate model\n",
        "model = Network(layer_dims)\n",
        "\n",
        "# Optimizer\n",
        "optim = SGD(model.parameters(),lr=lr)\n",
        "\n",
        "# Variables for plotting\n",
        "train_loss = []\n",
        "test_loss = []\n",
        "train_accuracy = []\n",
        "test_accuracy = []\n",
        "k_zero = []\n",
        "k_one = []\n",
        "\n",
        "\n",
        "# Runner loop\n",
        "for i in range(epochs):\n",
        "  # Variables for prompt\n",
        "  epoch_train_loss = []\n",
        "  epoch_train_acc = []\n",
        "  epoch_test_loss = []\n",
        "  epoch_test_acc = []\n",
        "\n",
        "  # Setting model to Train\n",
        "  # model.train() \n",
        "  for j in range(0,int(len(train_x)/batch_size)):\n",
        "    batch_x = train_x[j*batch_size:(j+1)*batch_size]\n",
        "    batch_y = train_y[j*batch_size:(j+1)*batch_size]\n",
        "\n",
        "    # sampling k_0 and k_1 values\n",
        "    k_zero_, k_one_ = model.activation.sample_k()\n",
        "    k_zero.append(k_zero_)\n",
        "    k_one.append(k_one_)\n",
        "\n",
        "    # setting grads to zero\n",
        "    optim.zero_grad()\n",
        "\n",
        "    # running the batch\n",
        "    loss, acc = model(batch_x,batch_y)\n",
        "\n",
        "    # backpropagating loss\n",
        "    loss.backward()\n",
        "\n",
        "    # optimizer step\n",
        "    optim.step()\n",
        "\n",
        "    # appending loss and acc values\n",
        "    epoch_train_loss.append(loss.item())\n",
        "    epoch_train_acc.append(acc)\n",
        "    train_loss.append(loss.item())\n",
        "    train_accuracy.append(acc)\n",
        "\n",
        "\n",
        "  # Setting model to Test\n",
        "  # model.eval()\n",
        "  for j in range(0,int(len(test_x)/batch_size)):\n",
        "    batch_x = test_x[j*batch_size:(j+1)*batch_size]\n",
        "    batch_y = test_y[j*batch_size:(j+1)*batch_size]\n",
        "\n",
        "    # running the batch\n",
        "    with torch.no_grad():\n",
        "      loss, acc = model(batch_x,batch_y)\n",
        "\n",
        "    # appending loss and acc values\n",
        "    epoch_test_loss.append(loss.item())\n",
        "    epoch_test_acc.append(acc)\n",
        "    test_loss.append(loss.item())\n",
        "    test_accuracy.append(acc)\n",
        "\n",
        "  print(f'Epoch {i}: \\n Train loss= {sum(epoch_train_loss)/len(epoch_train_loss):.4f} \\t Train Accuracy = {sum(epoch_train_acc)/len(epoch_train_acc):.4f} \\\n",
        "  \\n Test loss = {sum(epoch_test_loss)/len(epoch_test_loss):.4f} \\t Test Accuracy = {sum(epoch_test_acc)/len(epoch_test_acc):.4f}')\n",
        "\n",
        "    "
      ],
      "execution_count": 9,
      "outputs": [
        {
          "output_type": "stream",
          "text": [
            "Epoch 0: \n",
            " Train loss= 2.3115 \t Train Accuracy = 11.6319   \n",
            " Test loss = 2.2926 \t Test Accuracy = 14.5833\n",
            "Epoch 1: \n",
            " Train loss= 2.3040 \t Train Accuracy = 11.0110   \n",
            " Test loss = 2.3024 \t Test Accuracy = 11.8990\n",
            "Epoch 2: \n",
            " Train loss= 2.3026 \t Train Accuracy = 11.1528   \n",
            " Test loss = 2.3017 \t Test Accuracy = 11.5184\n",
            "Epoch 3: \n",
            " Train loss= 2.2977 \t Train Accuracy = 12.9324   \n",
            " Test loss = 2.2313 \t Test Accuracy = 37.4800\n",
            "Epoch 4: \n",
            " Train loss= 0.5417 \t Train Accuracy = 85.5803   \n",
            " Test loss = 0.3743 \t Test Accuracy = 88.7019\n",
            "Epoch 5: \n",
            " Train loss= 0.3167 \t Train Accuracy = 90.9505   \n",
            " Test loss = 0.3499 \t Test Accuracy = 89.3429\n",
            "Epoch 6: \n",
            " Train loss= 0.3007 \t Train Accuracy = 91.4463   \n",
            " Test loss = 0.3407 \t Test Accuracy = 89.7336\n",
            "Epoch 7: \n",
            " Train loss= 0.2920 \t Train Accuracy = 91.7201   \n",
            " Test loss = 0.3318 \t Test Accuracy = 89.9539\n",
            "Epoch 8: \n",
            " Train loss= 0.2861 \t Train Accuracy = 91.8904   \n",
            " Test loss = 0.3285 \t Test Accuracy = 90.1142\n",
            "Epoch 9: \n",
            " Train loss= 0.2816 \t Train Accuracy = 92.0172   \n",
            " Test loss = 0.3232 \t Test Accuracy = 90.3345\n",
            "Epoch 10: \n",
            " Train loss= 0.2781 \t Train Accuracy = 92.1307   \n",
            " Test loss = 0.3187 \t Test Accuracy = 90.4447\n",
            "Epoch 11: \n",
            " Train loss= 0.2755 \t Train Accuracy = 92.2543   \n",
            " Test loss = 0.3173 \t Test Accuracy = 90.5449\n",
            "Epoch 12: \n",
            " Train loss= 0.2731 \t Train Accuracy = 92.3578   \n",
            " Test loss = 0.3144 \t Test Accuracy = 90.6951\n",
            "Epoch 13: \n",
            " Train loss= 0.2711 \t Train Accuracy = 92.4312   \n",
            " Test loss = 0.3140 \t Test Accuracy = 90.6550\n",
            "Epoch 14: \n",
            " Train loss= 0.2692 \t Train Accuracy = 92.4796   \n",
            " Test loss = 0.3112 \t Test Accuracy = 90.7652\n",
            "Epoch 15: \n",
            " Train loss= 0.2677 \t Train Accuracy = 92.5514   \n",
            " Test loss = 0.3100 \t Test Accuracy = 90.7752\n",
            "Epoch 16: \n",
            " Train loss= 0.2661 \t Train Accuracy = 92.5848   \n",
            " Test loss = 0.3092 \t Test Accuracy = 90.9655\n",
            "Epoch 17: \n",
            " Train loss= 0.2649 \t Train Accuracy = 92.5965   \n",
            " Test loss = 0.3068 \t Test Accuracy = 91.0457\n",
            "Epoch 18: \n",
            " Train loss= 0.2638 \t Train Accuracy = 92.6432   \n",
            " Test loss = 0.3084 \t Test Accuracy = 90.9655\n",
            "Epoch 19: \n",
            " Train loss= 0.2626 \t Train Accuracy = 92.6716   \n",
            " Test loss = 0.3070 \t Test Accuracy = 91.1158\n"
          ],
          "name": "stdout"
        }
      ]
    },
    {
      "cell_type": "markdown",
      "metadata": {
        "id": "V8hAwKT9NCW7"
      },
      "source": [
        "#### Plots"
      ]
    },
    {
      "cell_type": "markdown",
      "metadata": {
        "id": "KzfmX8rsNWRm"
      },
      "source": [
        "##### k_zero and k_one"
      ]
    },
    {
      "cell_type": "code",
      "metadata": {
        "colab": {
          "base_uri": "https://localhost:8080/",
          "height": 444
        },
        "id": "oKCeOJQPNa1k",
        "outputId": "20def0ac-2b8a-4975-af24-e82b3463afbd"
      },
      "source": [
        "smooth_count = 100\n",
        "\n",
        "def average_over(a,iterations_count=100):\n",
        "  # Function to get smoother graphs by getting average values for every iteration count\n",
        "  averaged_list = []\n",
        "  i = 0\n",
        "  while i+iterations_count < len(a):\n",
        "    averaged_list.append(sum(a[i:i+iterations_count])/iterations_count)\n",
        "    i += iterations_count\n",
        "  \n",
        "  return averaged_list\n",
        "\n",
        "\n",
        "\n",
        "fig,ax = plt.subplots(ncols=2,figsize=(12,6))\n",
        "fig.suptitle(\"Value of activation constants over time\")\n",
        "fig.suptitle(f'Note: No of iterations = x_label * {smooth_count}', y=-0.01)\n",
        "ax[0].plot(average_over(k_zero,smooth_count))\n",
        "ax[0].set_title(\"k_zero\")\n",
        "ax[1].plot(average_over(k_one,smooth_count))\n",
        "ax[1].set_title(\"k_one\")\n",
        "plt.show()\n"
      ],
      "execution_count": 10,
      "outputs": [
        {
          "output_type": "display_data",
          "data": {
            "image/png": "[encoded data removed]",
            "text/plain": [
              "<Figure size 864x432 with 2 Axes>"
            ]
          },
          "metadata": {
            "tags": [],
            "needs_background": "light"
          }
        }
      ]
    },
    {
      "cell_type": "markdown",
      "metadata": {
        "id": "gWhed5A6SAfM"
      },
      "source": [
        "##### Train and Test loss"
      ]
    },
    {
      "cell_type": "code",
      "metadata": {
        "colab": {
          "base_uri": "https://localhost:8080/",
          "height": 444
        },
        "id": "cm6xctTXSDW9",
        "outputId": "7460ccfc-cf06-4e0d-c41c-86dd002b3e00"
      },
      "source": [
        "fig,ax = plt.subplots(ncols=2,figsize=(12,6))\n",
        "fig.suptitle(\"Train and Test loss\")\n",
        "fig.suptitle(f'Note: No of iterations = x_label * {smooth_count}', y=-0.01)\n",
        "ax[0].plot(average_over(train_loss,smooth_count))\n",
        "ax[0].set_title(\"Train loss\")\n",
        "ax[1].plot(average_over(test_loss,smooth_count))\n",
        "ax[1].set_title(\"Test loss\")\n",
        "plt.show()"
      ],
      "execution_count": 11,
      "outputs": [
        {
          "output_type": "display_data",
          "data": {
            "image/png": "[encoded data removed]",
            "text/plain": [
              "<Figure size 864x432 with 2 Axes>"
            ]
          },
          "metadata": {
            "tags": [],
            "needs_background": "light"
          }
        }
      ]
    },
    {
      "cell_type": "markdown",
      "metadata": {
        "id": "Fz9eCXvCTNoS"
      },
      "source": [
        "##### Train and Test Accuracy"
      ]
    },
    {
      "cell_type": "code",
      "metadata": {
        "colab": {
          "base_uri": "https://localhost:8080/",
          "height": 444
        },
        "id": "cjkhS5swTQa0",
        "outputId": "15f6541a-78f0-4fa5-d248-a9e639b64dda"
      },
      "source": [
        "fig,ax = plt.subplots(ncols=2,figsize=(12,6))\n",
        "fig.suptitle(\"Train and Test Accuracy\")\n",
        "fig.suptitle(f'Note: No of iterations = x_label * {smooth_count}', y=-0.01)\n",
        "ax[0].plot(average_over(train_accuracy,smooth_count))\n",
        "ax[0].set_title(\"Train Accuracy\")\n",
        "ax[1].plot(average_over(test_accuracy,smooth_count))\n",
        "ax[1].set_title(\"Test Accuracy\")\n",
        "plt.show()"
      ],
      "execution_count": 12,
      "outputs": [
        {
          "output_type": "display_data",
          "data": {
            "image/png": "[encoded data removed]",
            "text/plain": [
              "<Figure size 864x432 with 2 Axes>"
            ]
          },
          "metadata": {
            "tags": [],
            "needs_background": "light"
          }
        }
      ]
    }
  ]
}